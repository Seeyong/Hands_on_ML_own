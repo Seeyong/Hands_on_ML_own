{
 "cells": [
  {
   "cell_type": "code",
   "execution_count": 1,
   "metadata": {},
   "outputs": [],
   "source": [
    "import requests\n",
    "from urllib.parse import urljoin\n",
    "import urllib.request as rq\n",
    "from bs4 import BeautifulSoup"
   ]
  },
  {
   "cell_type": "code",
   "execution_count": 4,
   "metadata": {},
   "outputs": [
    {
     "name": "stdout",
     "output_type": "stream",
     "text": [
      "krw/usd =  1,122.00\n"
     ]
    }
   ],
   "source": [
    "# Naver FX data\n",
    "naver_finance_url = \"https://finance.naver.com/marketindex/\"\n",
    "req = rq.urlopen(naver_finance_url)\n",
    "soup = BeautifulSoup(req, 'html.parser')\n",
    "\n",
    "won_dollar = soup.select_one(\"div.head_info > span.value\").string\n",
    "print(\"krw/usd = \", won_dollar)"
   ]
  },
  {
   "cell_type": "markdown",
   "metadata": {},
   "source": [
    "# 교보문고 통합포인트 확인"
   ]
  },
  {
   "cell_type": "code",
   "execution_count": 21,
   "metadata": {},
   "outputs": [
    {
     "name": "stdout",
     "output_type": "stream",
     "text": [
      "3,680 P\n"
     ]
    }
   ],
   "source": [
    "# ID & Password\n",
    "USER = \"abcde987\"\n",
    "PASS = \"135789\"\n",
    "\n",
    "# start session\n",
    "session = requests.session()\n",
    "# log in\n",
    "login_info = {\n",
    "    \"memid\" : USER, # set ID\n",
    "    \"pw\" : PASS # set Password\n",
    "}\n",
    "url_login = \"https://www.kyobobook.co.kr/login/login.laf\"\n",
    "res = session.post(url_login, data=login_info)\n",
    "res.raise_for_status() # exception for an error occurs\n",
    "\n",
    "# get to mypage\n",
    "url_mypage = \"http://order.kyobobook.co.kr/myroom/main.html\"\n",
    "res = session.get(url_mypage)\n",
    "res.raise_for_status()\n",
    "\n",
    "# get total points\n",
    "soup = BeautifulSoup(res.text, \"html.parser\")\n",
    "total_points = soup.select(\".info a strong\")[1].string\n",
    "print(total_points, \"P\")"
   ]
  },
  {
   "cell_type": "code",
   "execution_count": null,
   "metadata": {},
   "outputs": [],
   "source": []
  }
 ],
 "metadata": {
  "kernelspec": {
   "display_name": "Python 3",
   "language": "python",
   "name": "python3"
  },
  "language_info": {
   "codemirror_mode": {
    "name": "ipython",
    "version": 3
   },
   "file_extension": ".py",
   "mimetype": "text/x-python",
   "name": "python",
   "nbconvert_exporter": "python",
   "pygments_lexer": "ipython3",
   "version": "3.7.1"
  }
 },
 "nbformat": 4,
 "nbformat_minor": 2
}
