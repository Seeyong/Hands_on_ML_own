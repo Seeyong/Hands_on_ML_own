{
 "cells": [
  {
   "cell_type": "code",
   "execution_count": 1,
   "metadata": {},
   "outputs": [],
   "source": [
    "import requests\n",
    "from urllib.parse import urljoin\n",
    "import urllib.request as rq\n",
    "from bs4 import BeautifulSoup\n",
    "from selenium import webdriver\n",
    "import os.path, random\n",
    "import json\n",
    "import tensorflow as tf"
   ]
  },
  {
   "cell_type": "code",
   "execution_count": 4,
   "metadata": {},
   "outputs": [
    {
     "name": "stdout",
     "output_type": "stream",
     "text": [
      "krw/usd =  1,122.00\n"
     ]
    }
   ],
   "source": [
    "# Naver FX data\n",
    "naver_finance_url = \"https://finance.naver.com/marketindex/\"\n",
    "req = rq.urlopen(naver_finance_url)\n",
    "soup = BeautifulSoup(req, 'html.parser')\n",
    "\n",
    "won_dollar = soup.select_one(\"div.head_info > span.value\").string\n",
    "print(\"krw/usd = \", won_dollar)"
   ]
  },
  {
   "cell_type": "markdown",
   "metadata": {},
   "source": [
    "# 교보문고 통합포인트 확인"
   ]
  },
  {
   "cell_type": "code",
   "execution_count": 21,
   "metadata": {},
   "outputs": [
    {
     "name": "stdout",
     "output_type": "stream",
     "text": [
      "3,680 P\n"
     ]
    }
   ],
   "source": [
    "# ID & Password\n",
    "USER = \"abcde987\"\n",
    "PASS = \"135789\"\n",
    "\n",
    "# start session\n",
    "session = requests.session()\n",
    "# log in\n",
    "login_info = {\n",
    "    \"memid\" : USER, # set ID\n",
    "    \"pw\" : PASS # set Password\n",
    "}\n",
    "url_login = \"https://www.kyobobook.co.kr/login/login.laf\"\n",
    "res = session.post(url_login, data=login_info)\n",
    "res.raise_for_status() # exception for an error occurs\n",
    "\n",
    "# get to mypage\n",
    "url_mypage = \"http://order.kyobobook.co.kr/myroom/main.html\"\n",
    "res = session.get(url_mypage)\n",
    "res.raise_for_status()\n",
    "\n",
    "# get total points\n",
    "soup = BeautifulSoup(res.text, \"html.parser\")\n",
    "total_points = soup.select(\".info a strong\")[1].string\n",
    "print(total_points, \"P\")"
   ]
  },
  {
   "cell_type": "markdown",
   "metadata": {},
   "source": [
    "# XML"
   ]
  },
  {
   "cell_type": "code",
   "execution_count": 6,
   "metadata": {},
   "outputs": [
    {
     "name": "stdout",
     "output_type": "stream",
     "text": [
      "+ 구름많음\n",
      "| - 서울\n",
      "| - 인천\n",
      "| - 수원\n",
      "| - 파주\n",
      "| - 춘천\n",
      "| - 원주\n",
      "| - 강릉\n",
      "| - 대전\n",
      "| - 세종\n",
      "| - 홍성\n",
      "| - 청주\n",
      "| - 광주\n",
      "| - 목포\n",
      "| - 여수\n",
      "| - 전주\n",
      "| - 군산\n",
      "| - 부산\n",
      "| - 울산\n",
      "| - 창원\n",
      "| - 대구\n",
      "| - 안동\n",
      "| - 포항\n",
      "| - 제주\n",
      "| - 서귀포\n"
     ]
    }
   ],
   "source": [
    "url = \"http://www.weather.go.kr/weather/forecast/mid-term-rss3.jsp?stnId=108\"\n",
    "savename = \"forecast.xml\"\n",
    "if not os.path.exists(savename):\n",
    "    rq.urlretrieve(url, savename)\n",
    "    \n",
    "xml = open(savename, \"r\", encoding=\"utf-8\").read()\n",
    "soup = BeautifulSoup(xml, \"html.parser\")\n",
    "\n",
    "info = {}\n",
    "for location in soup.find_all('location'):\n",
    "    city = location.find('city').string\n",
    "    weather = location.find('wf').string\n",
    "    if not (weather in info):\n",
    "        info[weather] = []\n",
    "    info[weather].append(city)\n",
    "    \n",
    "for weather in info.keys():\n",
    "    print('+',weather)\n",
    "    for city in info[weather]:\n",
    "        print('| -', city)"
   ]
  },
  {
   "cell_type": "markdown",
   "metadata": {},
   "source": [
    "# JSON"
   ]
  },
  {
   "cell_type": "code",
   "execution_count": 9,
   "metadata": {},
   "outputs": [
    {
     "name": "stdout",
     "output_type": "stream",
     "text": [
      "grit - mojombo\n",
      "merb-core - wycats\n",
      "rubinius - rubinius\n",
      "god - mojombo\n",
      "jsawesome - vanpelt\n",
      "jspec - wycats\n",
      "exception_logger - defunkt\n",
      "ambition - defunkt\n",
      "restful-authentication - technoweenie\n",
      "attachment_fu - technoweenie\n",
      "microsis - Caged\n",
      "s3 - anotherjesse\n",
      "taboo - anotherjesse\n",
      "foxtracs - anotherjesse\n",
      "fotomatic - anotherjesse\n",
      "glowstick - mojombo\n",
      "starling - defunkt\n",
      "merb-more - wycats\n",
      "thin - macournoyer\n",
      "resource_controller - jamesgolick\n",
      "markaby - jamesgolick\n",
      "enum_field - jamesgolick\n",
      "subtlety - defunkt\n",
      "zippy - defunkt\n",
      "cache_fu - defunkt\n",
      "phosphor - KirinDave\n",
      "sinatra - bmizerany\n",
      "gsa-prototype - jnewland\n",
      "duplikate - technoweenie\n",
      "lazy_record - jnewland\n",
      "gsa-feeds - jnewland\n",
      "votigoto - jnewland\n",
      "mofo - defunkt\n",
      "xhtmlize - jnewland\n",
      "ruby-git - ruby-git\n",
      "bmhsearch - ezmobius\n",
      "mofo - uggedal\n",
      "simply_versioned - mmower\n",
      "gchart - abhay\n",
      "schemr - benburkert\n",
      "calais - abhay\n",
      "chronic - mojombo\n",
      "git-wiki - sr\n",
      "signal-wiki - queso\n",
      "ruby-on-rails-tmbundle - drnic\n",
      "low-pro-for-jquery - danwrong\n",
      "merb-core - wayneeseguin\n",
      "dst - sr\n",
      "yaws - mojombo\n",
      "yaws - KirinDave\n",
      "tasks - sr\n",
      "ruby-on-rails-tmbundle - mattetti\n",
      "amazon-ec2 - grempe\n",
      "merblogger - wayneeseguin\n",
      "merbtastic - wayneeseguin\n",
      "alogr - wayneeseguin\n",
      "autozest - wayneeseguin\n",
      "rnginx - wayneeseguin\n",
      "sequel - wayneeseguin\n",
      "simply_versioned - bmizerany\n",
      "switchpipe - peterc\n",
      "arc - hornbeck\n",
      "ebay4r - up_the_irons\n",
      "merb-plugins - wycats\n",
      "ram - up_the_irons\n",
      "ambitious_activeldap - defunkt\n",
      "fitter_happier - atmos\n",
      "oebfare - brosner\n",
      "credit_card_tools - up_the_irons\n",
      "rorem - jnicklas\n",
      "braid - cristibalan\n",
      "uploadcolumn - jnicklas\n",
      "ruby-on-rails-tmbundle - simonjefford\n",
      "rack-mirror - chneukirchen\n",
      "coset-mirror - chneukirchen\n",
      "javascript-unittest-tmbundle - drnic\n",
      "eycap - engineyard\n",
      "gitsum - chneukirchen\n",
      "sequel-model - wayneeseguin\n",
      "god - kevinclark\n",
      "blerb-core - hornbeck\n",
      "django-mptt - brosner\n",
      "bus-scheme - technomancy\n",
      "javascript-bits - Caged\n",
      "groomlake - Caged\n",
      "forgery - sevenwire\n",
      "ambitious-sphinx - technicalpickles\n",
      "soup - lazyatom\n",
      "rails - josh\n",
      "backpacking - cdcarter\n",
      "capsize - jnewland\n",
      "starling - bs\n",
      "ape - sr\n",
      "awesomeness - collectiveidea\n",
      "audited - collectiveidea\n",
      "acts_as_geocodable - collectiveidea\n",
      "acts_as_money - collectiveidea\n",
      "calendar_builder - collectiveidea\n",
      "clear_empty_attributes - collectiveidea\n",
      "css_naked_day - collectiveidea\n"
     ]
    }
   ],
   "source": [
    "url = \"https://api.github.com/repositories\"\n",
    "savename = \"repo.json\"\n",
    "if not os.path.exists(savename):\n",
    "    rq.urlretrieve(url, savename)\n",
    "    \n",
    "items = json.load(open(savename, \"r\", encoding=\"utf-8\"))\n",
    "for item in items:\n",
    "    print(item['name'] + \" - \" + item['owner']['login'])"
   ]
  },
  {
   "cell_type": "code",
   "execution_count": null,
   "metadata": {},
   "outputs": [],
   "source": []
  }
 ],
 "metadata": {
  "kernelspec": {
   "display_name": "Python 3",
   "language": "python",
   "name": "python3"
  },
  "language_info": {
   "codemirror_mode": {
    "name": "ipython",
    "version": 3
   },
   "file_extension": ".py",
   "mimetype": "text/x-python",
   "name": "python",
   "nbconvert_exporter": "python",
   "pygments_lexer": "ipython3",
   "version": "3.6.5"
  }
 },
 "nbformat": 4,
 "nbformat_minor": 2
}
