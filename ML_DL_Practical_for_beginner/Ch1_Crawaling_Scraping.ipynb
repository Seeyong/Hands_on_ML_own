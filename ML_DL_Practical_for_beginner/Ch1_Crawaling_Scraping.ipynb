{
 "cells": [
  {
   "cell_type": "code",
   "execution_count": 1,
   "metadata": {},
   "outputs": [],
   "source": [
    "import urllib.request as rq\n",
    "from bs4 import BeautifulSoup"
   ]
  },
  {
   "cell_type": "code",
   "execution_count": 4,
   "metadata": {},
   "outputs": [
    {
     "name": "stdout",
     "output_type": "stream",
     "text": [
      "krw/usd =  1,122.00\n"
     ]
    }
   ],
   "source": [
    "# Naver FX data\n",
    "naver_finance_url = \"https://finance.naver.com/marketindex/\"\n",
    "req = rq.urlopen(naver_finance_url)\n",
    "soup = BeautifulSoup(req, 'html.parser')\n",
    "\n",
    "won_dollar = soup.select_one(\"div.head_info > span.value\").string\n",
    "print(\"krw/usd = \", won_dollar)"
   ]
  },
  {
   "cell_type": "code",
   "execution_count": null,
   "metadata": {},
   "outputs": [],
   "source": []
  }
 ],
 "metadata": {
  "kernelspec": {
   "display_name": "Python 3",
   "language": "python",
   "name": "python3"
  },
  "language_info": {
   "codemirror_mode": {
    "name": "ipython",
    "version": 3
   },
   "file_extension": ".py",
   "mimetype": "text/x-python",
   "name": "python",
   "nbconvert_exporter": "python",
   "pygments_lexer": "ipython3",
   "version": "3.7.1"
  }
 },
 "nbformat": 4,
 "nbformat_minor": 2
}
